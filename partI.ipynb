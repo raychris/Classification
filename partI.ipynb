{
 "cells": [
  {
   "cell_type": "markdown",
   "metadata": {
    "collapsed": true
   },
   "source": [
    "# Part I: Data Preparation\n",
    "\n",
    "## Read data from csv"
   ]
  },
  {
   "cell_type": "code",
   "execution_count": 1,
   "metadata": {},
   "outputs": [
    {
     "name": "stdout",
     "output_type": "stream",
     "text": [
      "      PatientId  AppointmentID Gender          ScheduledDay  \\\n",
      "0  2.987250e+13        5642903      F  2016-04-29T18:38:08Z   \n",
      "1  5.589978e+14        5642503      M  2016-04-29T16:08:27Z   \n",
      "2  4.262962e+12        5642549      F  2016-04-29T16:19:04Z   \n",
      "3  8.679512e+11        5642828      F  2016-04-29T17:29:31Z   \n",
      "4  8.841186e+12        5642494      F  2016-04-29T16:07:23Z   \n",
      "\n",
      "         AppointmentDay  Age      Neighbourhood  Scholarship  Hipertension  \\\n",
      "0  2016-04-29T00:00:00Z   62    JARDIM DA PENHA            0             1   \n",
      "1  2016-04-29T00:00:00Z   56    JARDIM DA PENHA            0             0   \n",
      "2  2016-04-29T00:00:00Z   62      MATA DA PRAIA            0             0   \n",
      "3  2016-04-29T00:00:00Z    8  PONTAL DE CAMBURI            0             0   \n",
      "4  2016-04-29T00:00:00Z   56    JARDIM DA PENHA            0             1   \n",
      "\n",
      "   Diabetes  Alcoholism  Handcap  SMS_received No-show  \n",
      "0         0           0        0             0      No  \n",
      "1         0           0        0             0      No  \n",
      "2         0           0        0             0      No  \n",
      "3         0           0        0             0      No  \n",
      "4         1           0        0             0      No  \n",
      "Index(['PatientId', 'AppointmentID', 'Gender', 'ScheduledDay',\n",
      "       'AppointmentDay', 'Age', 'Neighbourhood', 'Scholarship', 'Hipertension',\n",
      "       'Diabetes', 'Alcoholism', 'Handcap', 'SMS_received', 'No-show'],\n",
      "      dtype='object')\n"
     ]
    },
    {
     "data": {
      "text/html": [
       "<div>\n",
       "<style>\n",
       "    .dataframe thead tr:only-child th {\n",
       "        text-align: right;\n",
       "    }\n",
       "\n",
       "    .dataframe thead th {\n",
       "        text-align: left;\n",
       "    }\n",
       "\n",
       "    .dataframe tbody tr th {\n",
       "        vertical-align: top;\n",
       "    }\n",
       "</style>\n",
       "<table border=\"1\" class=\"dataframe\">\n",
       "  <thead>\n",
       "    <tr style=\"text-align: right;\">\n",
       "      <th></th>\n",
       "      <th>PatientId</th>\n",
       "      <th>AppointmentID</th>\n",
       "      <th>Age</th>\n",
       "      <th>Scholarship</th>\n",
       "      <th>Hipertension</th>\n",
       "      <th>Diabetes</th>\n",
       "      <th>Alcoholism</th>\n",
       "      <th>Handcap</th>\n",
       "      <th>SMS_received</th>\n",
       "    </tr>\n",
       "  </thead>\n",
       "  <tbody>\n",
       "    <tr>\n",
       "      <th>count</th>\n",
       "      <td>1.105270e+05</td>\n",
       "      <td>1.105270e+05</td>\n",
       "      <td>110527.000000</td>\n",
       "      <td>110527.000000</td>\n",
       "      <td>110527.000000</td>\n",
       "      <td>110527.000000</td>\n",
       "      <td>110527.000000</td>\n",
       "      <td>110527.000000</td>\n",
       "      <td>110527.000000</td>\n",
       "    </tr>\n",
       "    <tr>\n",
       "      <th>mean</th>\n",
       "      <td>1.474963e+14</td>\n",
       "      <td>5.675305e+06</td>\n",
       "      <td>37.088874</td>\n",
       "      <td>0.098266</td>\n",
       "      <td>0.197246</td>\n",
       "      <td>0.071865</td>\n",
       "      <td>0.030400</td>\n",
       "      <td>0.022248</td>\n",
       "      <td>0.321026</td>\n",
       "    </tr>\n",
       "    <tr>\n",
       "      <th>std</th>\n",
       "      <td>2.560949e+14</td>\n",
       "      <td>7.129575e+04</td>\n",
       "      <td>23.110205</td>\n",
       "      <td>0.297675</td>\n",
       "      <td>0.397921</td>\n",
       "      <td>0.258265</td>\n",
       "      <td>0.171686</td>\n",
       "      <td>0.161543</td>\n",
       "      <td>0.466873</td>\n",
       "    </tr>\n",
       "    <tr>\n",
       "      <th>min</th>\n",
       "      <td>3.921784e+04</td>\n",
       "      <td>5.030230e+06</td>\n",
       "      <td>-1.000000</td>\n",
       "      <td>0.000000</td>\n",
       "      <td>0.000000</td>\n",
       "      <td>0.000000</td>\n",
       "      <td>0.000000</td>\n",
       "      <td>0.000000</td>\n",
       "      <td>0.000000</td>\n",
       "    </tr>\n",
       "    <tr>\n",
       "      <th>25%</th>\n",
       "      <td>4.172614e+12</td>\n",
       "      <td>5.640286e+06</td>\n",
       "      <td>18.000000</td>\n",
       "      <td>0.000000</td>\n",
       "      <td>0.000000</td>\n",
       "      <td>0.000000</td>\n",
       "      <td>0.000000</td>\n",
       "      <td>0.000000</td>\n",
       "      <td>0.000000</td>\n",
       "    </tr>\n",
       "    <tr>\n",
       "      <th>50%</th>\n",
       "      <td>3.173184e+13</td>\n",
       "      <td>5.680573e+06</td>\n",
       "      <td>37.000000</td>\n",
       "      <td>0.000000</td>\n",
       "      <td>0.000000</td>\n",
       "      <td>0.000000</td>\n",
       "      <td>0.000000</td>\n",
       "      <td>0.000000</td>\n",
       "      <td>0.000000</td>\n",
       "    </tr>\n",
       "    <tr>\n",
       "      <th>75%</th>\n",
       "      <td>9.439172e+13</td>\n",
       "      <td>5.725524e+06</td>\n",
       "      <td>55.000000</td>\n",
       "      <td>0.000000</td>\n",
       "      <td>0.000000</td>\n",
       "      <td>0.000000</td>\n",
       "      <td>0.000000</td>\n",
       "      <td>0.000000</td>\n",
       "      <td>1.000000</td>\n",
       "    </tr>\n",
       "    <tr>\n",
       "      <th>max</th>\n",
       "      <td>9.999816e+14</td>\n",
       "      <td>5.790484e+06</td>\n",
       "      <td>115.000000</td>\n",
       "      <td>1.000000</td>\n",
       "      <td>1.000000</td>\n",
       "      <td>1.000000</td>\n",
       "      <td>1.000000</td>\n",
       "      <td>4.000000</td>\n",
       "      <td>1.000000</td>\n",
       "    </tr>\n",
       "  </tbody>\n",
       "</table>\n",
       "</div>"
      ],
      "text/plain": [
       "          PatientId  AppointmentID            Age    Scholarship  \\\n",
       "count  1.105270e+05   1.105270e+05  110527.000000  110527.000000   \n",
       "mean   1.474963e+14   5.675305e+06      37.088874       0.098266   \n",
       "std    2.560949e+14   7.129575e+04      23.110205       0.297675   \n",
       "min    3.921784e+04   5.030230e+06      -1.000000       0.000000   \n",
       "25%    4.172614e+12   5.640286e+06      18.000000       0.000000   \n",
       "50%    3.173184e+13   5.680573e+06      37.000000       0.000000   \n",
       "75%    9.439172e+13   5.725524e+06      55.000000       0.000000   \n",
       "max    9.999816e+14   5.790484e+06     115.000000       1.000000   \n",
       "\n",
       "        Hipertension       Diabetes     Alcoholism        Handcap  \\\n",
       "count  110527.000000  110527.000000  110527.000000  110527.000000   \n",
       "mean        0.197246       0.071865       0.030400       0.022248   \n",
       "std         0.397921       0.258265       0.171686       0.161543   \n",
       "min         0.000000       0.000000       0.000000       0.000000   \n",
       "25%         0.000000       0.000000       0.000000       0.000000   \n",
       "50%         0.000000       0.000000       0.000000       0.000000   \n",
       "75%         0.000000       0.000000       0.000000       0.000000   \n",
       "max         1.000000       1.000000       1.000000       4.000000   \n",
       "\n",
       "        SMS_received  \n",
       "count  110527.000000  \n",
       "mean        0.321026  \n",
       "std         0.466873  \n",
       "min         0.000000  \n",
       "25%         0.000000  \n",
       "50%         0.000000  \n",
       "75%         1.000000  \n",
       "max         1.000000  "
      ]
     },
     "execution_count": 1,
     "metadata": {},
     "output_type": "execute_result"
    }
   ],
   "source": [
    "import pandas as pd\n",
    "\n",
    "DATA_DIR = 'Data'\n",
    "CSV_FILE = DATA_DIR + '/' + 'KaggleV2-May-2016.csv'\n",
    "\n",
    "# read data using read_csv function\n",
    "#read_csv returns a dataframe\n",
    "RawCsvDf = pd.read_csv(CSV_FILE)\n",
    "#check out the data\n",
    "print(RawCsvDf.head())\n",
    "print(RawCsvDf.columns)\n",
    "RawCsvDf.describe()\n"
   ]
  },
  {
   "cell_type": "markdown",
   "metadata": {},
   "source": [
    "## Data cleanup\n",
    "\n",
    "- Cleanup column names\n",
    "- Remove records with erroneous entries (e.g., negative ages). Look at what people have done in Kaggle"
   ]
  },
  {
   "cell_type": "code",
   "execution_count": 5,
   "metadata": {
    "scrolled": true
   },
   "outputs": [
    {
     "name": "stdout",
     "output_type": "stream",
     "text": [
      "-1\n"
     ]
    },
    {
     "name": "stderr",
     "output_type": "stream",
     "text": [
      "C:\\Users\\madag\\Anaconda3\\lib\\site-packages\\ipykernel_launcher.py:16: SettingWithCopyWarning: \n",
      "A value is trying to be set on a copy of a slice from a DataFrame.\n",
      "Try using .loc[row_indexer,col_indexer] = value instead\n",
      "\n",
      "See the caveats in the documentation: http://pandas.pydata.org/pandas-docs/stable/indexing.html#indexing-view-versus-copy\n",
      "  app.launch_new_instance()\n",
      "C:\\Users\\madag\\Anaconda3\\lib\\site-packages\\ipykernel_launcher.py:17: SettingWithCopyWarning: \n",
      "A value is trying to be set on a copy of a slice from a DataFrame.\n",
      "Try using .loc[row_indexer,col_indexer] = value instead\n",
      "\n",
      "See the caveats in the documentation: http://pandas.pydata.org/pandas-docs/stable/indexing.html#indexing-view-versus-copy\n",
      "C:\\Users\\madag\\Anaconda3\\lib\\site-packages\\pandas\\core\\indexing.py:517: SettingWithCopyWarning: \n",
      "A value is trying to be set on a copy of a slice from a DataFrame.\n",
      "Try using .loc[row_indexer,col_indexer] = value instead\n",
      "\n",
      "See the caveats in the documentation: http://pandas.pydata.org/pandas-docs/stable/indexing.html#indexing-view-versus-copy\n",
      "  self.obj[item] = s\n"
     ]
    },
    {
     "name": "stdout",
     "output_type": "stream",
     "text": [
      "count     110526\n",
      "unique         2\n",
      "top           No\n",
      "freq       88207\n",
      "Name: No-show, dtype: object\n",
      "0.0    88207\n",
      "1.0    22319\n",
      "Name: NoShowBoolean, dtype: int64\n",
      "2    25867\n",
      "1    25640\n",
      "0    22714\n",
      "4    19019\n",
      "3    17247\n",
      "5       39\n",
      "Name: DayOfWeekIndex, dtype: int64\n"
     ]
    },
    {
     "name": "stderr",
     "output_type": "stream",
     "text": [
      "C:\\Users\\madag\\Anaconda3\\lib\\site-packages\\ipykernel_launcher.py:20: SettingWithCopyWarning: \n",
      "A value is trying to be set on a copy of a slice from a DataFrame.\n",
      "Try using .loc[row_indexer,col_indexer] = value instead\n",
      "\n",
      "See the caveats in the documentation: http://pandas.pydata.org/pandas-docs/stable/indexing.html#indexing-view-versus-copy\n"
     ]
    }
   ],
   "source": [
    "#import numpy\n",
    "import numpy as np\n",
    "\n",
    "#describe shows a negative age\n",
    "#assume bad data and remove record\n",
    "for theAge in RawCsvDf['Age']:\n",
    "    if(theAge < 0):\n",
    "        print(theAge)\n",
    "#drop rows where Age = -1\n",
    "CleanerDf = RawCsvDf[RawCsvDf.Age != -1]\n",
    "for theAge in CleanerDf['Age']:\n",
    "    if(theAge < 0):\n",
    "        print(theAge)\n",
    "#add column of 0 for missed appointment and 1 for made appt\n",
    "#this is for the data exploration step\n",
    "CleanerDf['NoShowBoolean'] = np.zeros(len(CleanerDf['No-show']))\n",
    "CleanerDf['DayOfWeekIndex'] = np.zeros(len(CleanerDf['AppointmentDay']))\n",
    "#make any missed appointments in No-show into 1s in NoShowBoolean\n",
    "CleanerDf.loc[CleanerDf['No-show'] == 'Yes', 'NoShowBoolean'] = 1\n",
    "CleanerDf['DayOfWeekIndex'] = CleanerDf['AppointmentDay'].apply(lambda x: pd.to_datetime(x).weekday())\n",
    "#get day of week for the DayOfWeekIndex\n",
    "#for index,row in CleanerDf.iterrows():\n",
    "    #row = row.copy()\n",
    "    #strDate = row.AppointmentDay\n",
    "    #timestampDate = pd.to_datetime(strDate)\n",
    "    #CleanerDf.loc[index,'DayOfWeekIndex'] = timestampDate.weekday()\n",
    "    #print(timestampDate.weekday())\n",
    "\n",
    "#to show that there is one fewer rows and no Age = -1\n",
    "print(CleanerDf['No-show'].describe())\n",
    "print(CleanerDf['NoShowBoolean'].value_counts())\n",
    "#show day of week counts too\n",
    "print(CleanerDf['DayOfWeekIndex'].value_counts())"
   ]
  },
  {
   "cell_type": "markdown",
   "metadata": {},
   "source": [
    "## Test set creation\n",
    "\n",
    "- Create a test set of 20k records\n",
    "- Use stratified sampling on the `No-Show` variable to make sure class proportions are the same for train and test sets\n",
    "- Save train and test sets as csv files in the `processed_data` directory"
   ]
  },
  {
   "cell_type": "code",
   "execution_count": 6,
   "metadata": {},
   "outputs": [
    {
     "name": "stdout",
     "output_type": "stream",
     "text": [
      "count     110526\n",
      "unique         2\n",
      "top           No\n",
      "freq       88207\n",
      "Name: No-show, dtype: object\n",
      "Full Data set - Made Appointment: 0.798065613521 | Missed Appointment: 0.201934386479\n",
      "Traning Data\n",
      "No     0.798003\n",
      "Yes    0.201986\n",
      "Name: No-show, dtype: float64\n",
      "Test Data\n",
      "No     0.7983\n",
      "Yes    0.2017\n",
      "Name: No-show, dtype: float64\n"
     ]
    }
   ],
   "source": [
    "#import sklearn\n",
    "from sklearn.model_selection import StratifiedShuffleSplit\n",
    "\n",
    "#specify where to save the data\n",
    "PROCESSED_DATA_DIR = 'ProcessedData'\n",
    "\n",
    "#find out the percentages of yes &  no for column No-show\n",
    "NoShow = CleanerDf['No-show'].describe()\n",
    "print(NoShow)\n",
    "NoShowTotal = len(CleanerDf['No-show'])\n",
    "NoShowNoCount = NoShow.freq\n",
    "#Since there are only 2 values in this column\n",
    "NoShowNoRatio = NoShowNoCount/NoShowTotal\n",
    "NoShowYesRatio = 1 - NoShowNoRatio\n",
    "print('Full Data set - ' + 'Made Appointment: ' + str(NoShowNoRatio) + ' | Missed Appointment: ' + str(NoShowYesRatio))\n",
    "\n",
    "#do stratified sampling\n",
    "#see: http://scikit-learn.org/stable/modules/generated/sklearn.model_selection.StratifiedShuffleSplit.html\n",
    "split = StratifiedShuffleSplit(n_splits=1, test_size=20000, random_state=1234)\n",
    "for train_index, test_index in split.split(CleanerDf, CleanerDf[\"No-show\"]):\n",
    "    train_set = CleanerDf.loc[train_index]\n",
    "    test_set = CleanerDf.loc[test_index]\n",
    "#compare test and training data sets to see that ratios of no-shows approximately match\n",
    "print('Traning Data')\n",
    "print(train_set[\"No-show\"].value_counts() / len(train_set))\n",
    "print('Test Data')\n",
    "print(test_set[\"No-show\"].value_counts() / len(test_set))\n",
    "\n",
    "#save data sets as csv's\n",
    "train_set.to_csv(PROCESSED_DATA_DIR + '/training.csv')\n",
    "test_set.to_csv(PROCESSED_DATA_DIR + '/test.csv')"
   ]
  },
  {
   "cell_type": "markdown",
   "metadata": {},
   "source": [
    "## Exploratory Data Analysis\n",
    "\n",
    "Plot the `No-show` variable against other variables. Remember from this point forward you are only using the training set created in the previous step"
   ]
  },
  {
   "cell_type": "code",
   "execution_count": 10,
   "metadata": {
    "scrolled": false
   },
   "outputs": [
    {
     "data": {
      "text/plain": [
       "NoShowBoolean     1.000000\n",
       "SMS_received      0.126032\n",
       "Scholarship       0.030328\n",
       "DayOfWeekIndex   -0.000846\n",
       "Alcoholism       -0.001135\n",
       "PatientId        -0.001364\n",
       "Handcap          -0.004377\n",
       "Diabetes         -0.016083\n",
       "Hipertension     -0.037391\n",
       "Age              -0.061817\n",
       "AppointmentID    -0.163071\n",
       "Name: NoShowBoolean, dtype: float64"
      ]
     },
     "execution_count": 10,
     "metadata": {},
     "output_type": "execute_result"
    }
   ],
   "source": [
    "from pandas.plotting import scatter_matrix\n",
    "import matplotlib.pyplot as plt\n",
    "\n",
    "#look at a histgram\n",
    "#%matplotlib inline\n",
    "#import matplotlib.pyplot as plt\n",
    "#train_set.hist(bins=30, figsize=(20,15))\n",
    "#plt.show()\n",
    "\n",
    "#split the df into made appointments and missed appointments\n",
    "#df[df['Sales'] >= s]\n",
    "MissedDf = train_set[train_set['NoShowBoolean'] == 1]\n",
    "MadeDf = train_set[train_set['NoShowBoolean'] == 0]\n",
    "\n",
    "#look at a histgram\n",
    "%matplotlib inline\n",
    "import matplotlib.pyplot as plt\n",
    "#MissedDf.hist(bins=30, figsize=(20,15))\n",
    "#plt.show()\n",
    "#see correlation table\n",
    "corr_matrix = train_set.corr()\n",
    "corr_matrix[\"NoShowBoolean\"].sort_values(ascending=False)\n"
   ]
  },
  {
   "cell_type": "markdown",
   "metadata": {},
   "source": [
    "This first look makes it seem that SMS_received,Scholarship are positively correlated with NoShowBoolean.  Age,DayOfWeekIndex, and some illnesses seem to be negatively correlated."
   ]
  },
  {
   "cell_type": "code",
   "execution_count": 16,
   "metadata": {},
   "outputs": [
    {
     "data": {
      "text/plain": [
       "<matplotlib.axes._subplots.AxesSubplot at 0x25ad94f5a58>"
      ]
     },
     "execution_count": 16,
     "metadata": {},
     "output_type": "execute_result"
    },
    {
     "data": {
      "image/png": "[encoded data removed]",
      "text/plain": [
       "<matplotlib.figure.Figure at 0x25adddf9dd8>"
      ]
     },
     "metadata": {},
     "output_type": "display_data"
    }
   ],
   "source": [
    "from pandas.plotting import scatter_matrix\n",
    "\n",
    "#attributes = [\"NoShowBoolean\",\"SMS_received\", \"Scholarship\", \"Age\", \"DayOfWeekIndex\"]\n",
    "#scatter_matrix(train_set[attributes], figsize=(12, 8))\n",
    "#plt.show()\n",
    "\n",
    "train_set.plot(kind=\"scatter\", x=\"DayOfWeekIndex\", y=\"Age\", alpha=0.4,\n",
    "            c=\"NoShowBoolean\", cmap=plt.get_cmap(\"YlGnBu\"), colorbar=True)"
   ]
  },
  {
   "cell_type": "markdown",
   "metadata": {},
   "source": [
    "A quick look at the day of week vs age seems to show younger patients are frequently no shows early in the week"
   ]
  },
  {
   "cell_type": "markdown",
   "metadata": {},
   "source": [
    "## Data preprocessing\n",
    "\n",
    "Create a scikit pipeline for preprocessing the data to prepare it for ML algorithms. At a minimum your pipeline should:\n",
    "\n",
    "- Standardize numerical variables\n",
    "- Transform categorical variables into numeric variables\n",
    "\n",
    "Optionally, you can perform any other transformation you think is suitable. Again, refer to the intro notebook for an example of setting up a preprocessing pipeline."
   ]
  },
  {
   "cell_type": "code",
   "execution_count": 23,
   "metadata": {},
   "outputs": [],
   "source": [
    "from sklearn.base import BaseEstimator, TransformerMixin\n",
    "from sklearn.pipeline import Pipeline, FeatureUnion\n",
    "from sklearn.preprocessing import StandardScaler, LabelBinarizer\n",
    "from sklearn import preprocessing\n",
    "\n",
    "#I've already taken care of day of the week and make or miss appt.  I'll put neighborhood into numeric values here\n",
    "train_set.columns\n",
    "le = preprocessing.LabelEncoder()\n",
    "#le.fit(train_set['Neighbourhood'])\n",
    "#list(le.classes_)\n",
    "# show the first 5 rows of the transformed training set"
   ]
  },
  {
   "cell_type": "code",
   "execution_count": 24,
   "metadata": {},
   "outputs": [
    {
     "data": {
      "text/plain": [
       "count              90525\n",
       "unique                81\n",
       "top       JARDIM CAMBURI\n",
       "freq                6322\n",
       "Name: Neighbourhood, dtype: object"
      ]
     },
     "execution_count": 24,
     "metadata": {},
     "output_type": "execute_result"
    }
   ],
   "source": [
    "train_set['Neighbourhood'].describe()"
   ]
  },
  {
   "cell_type": "markdown",
   "metadata": {},
   "source": [
    "Not much of a pipeline...\n"
   ]
  },
  {
   "cell_type": "code",
   "execution_count": null,
   "metadata": {
    "collapsed": true
   },
   "outputs": [],
   "source": []
  }
 ],
 "metadata": {
  "kernelspec": {
   "display_name": "Python 3",
   "language": "python",
   "name": "python3"
  },
  "language_info": {
   "codemirror_mode": {
    "name": "ipython",
    "version": 3
   },
   "file_extension": ".py",
   "mimetype": "text/x-python",
   "name": "python",
   "nbconvert_exporter": "python",
   "pygments_lexer": "ipython3",
   "version": "3.6.1"
  }
 },
 "nbformat": 4,
 "nbformat_minor": 2
}
